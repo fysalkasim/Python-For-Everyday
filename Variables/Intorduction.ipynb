{
 "cells": [
  {
   "cell_type": "code",
   "execution_count": null,
   "metadata": {},
   "outputs": [],
   "source": [
    "#simple\n",
    "#High level\n",
    "#general purpose\n",
    "#open source\n",
    "#Libraries for data analysis like numpy pandas matplotlib\n",
    "\n",
    "\n"
   ]
  },
  {
   "cell_type": "code",
   "execution_count": null,
   "metadata": {},
   "outputs": [
    {
     "name": "stdout",
     "output_type": "stream",
     "text": [
      "5\n"
     ]
    }
   ],
   "source": [
    "#Variable\n",
    "x = 5                #cpu     \n",
    "#assigning 5 to th x x act as a label or name\n",
    "print(x)       #function  f(x) = x^2    f(5) = 25\n",
    "\n"
   ]
  },
  {
   "cell_type": "code",
   "execution_count": null,
   "metadata": {},
   "outputs": [],
   "source": [
    "Objective: Master step slicing by decoding a scrambled message.\n",
    "Task: You are given the scrambled string .\n",
    "1.    Use slicing with a step to extract the hidden message.\n",
    "2.    What is the secret message?"
   ]
  },
  {
   "cell_type": "code",
   "execution_count": 5,
   "metadata": {},
   "outputs": [
    {
     "data": {
      "text/plain": [
       "'o'"
      ]
     },
     "execution_count": 5,
     "metadata": {},
     "output_type": "execute_result"
    }
   ],
   "source": [
    "na = \"Hlelop yt!ho\"\n",
    "na[::-22]"
   ]
  },
  {
   "cell_type": "code",
   "execution_count": 28,
   "metadata": {},
   "outputs": [
    {
     "name": "stdout",
     "output_type": "stream",
     "text": [
      "Hello python\n"
     ]
    }
   ],
   "source": [
    "scrambled_text = \"Hlealoldo_ _pzyht!hnonnm\"\n",
    "\n",
    "# Step 2: Use slicing with a step of 2 to directly extract the hidden message\n",
    "hidden_message = scrambled_text[::2]\n",
    "print(hidden_message)"
   ]
  },
  {
   "cell_type": "code",
   "execution_count": null,
   "metadata": {},
   "outputs": [],
   "source": []
  }
 ],
 "metadata": {
  "kernelspec": {
   "display_name": "base",
   "language": "python",
   "name": "python3"
  },
  "language_info": {
   "codemirror_mode": {
    "name": "ipython",
    "version": 3
   },
   "file_extension": ".py",
   "mimetype": "text/x-python",
   "name": "python",
   "nbconvert_exporter": "python",
   "pygments_lexer": "ipython3",
   "version": "3.11.7"
  }
 },
 "nbformat": 4,
 "nbformat_minor": 2
}
